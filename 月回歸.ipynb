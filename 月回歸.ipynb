{
 "cells": [
  {
   "cell_type": "code",
   "execution_count": 1,
   "id": "a1d68179",
   "metadata": {},
   "outputs": [],
   "source": [
    "import pandas as pd\n",
    "import numpy as np\n",
    "from sklearn import metrics\n",
    "from statsmodels.formula.api import ols"
   ]
  },
  {
   "cell_type": "code",
   "execution_count": 2,
   "id": "0596afd7",
   "metadata": {},
   "outputs": [],
   "source": [
    "RDL = pd.read_excel(\"/Users/moca_lucy/Documents/大學/專題/RDL_AlCu/RDL_biweekly+four-weekly+monthly.xlsx\", sheet_name=\"Monthly\", header=0)"
   ]
  },
  {
   "cell_type": "code",
   "execution_count": 5,
   "id": "73da7ea3",
   "metadata": {},
   "outputs": [],
   "source": [
    "traindata = RDL[0:11]\n",
    "testdata = RDL[11:]\n",
    "#traindata"
   ]
  },
  {
   "cell_type": "code",
   "execution_count": 6,
   "id": "a7ea3712",
   "metadata": {},
   "outputs": [],
   "source": [
    "regression = ols(formula='Y~X1+X2+X3+X4+X5+X6+X13+X14+X15', data=traindata)\n",
    "lm = regression.fit()"
   ]
  },
  {
   "cell_type": "code",
   "execution_count": 8,
   "id": "f7c8f482",
   "metadata": {},
   "outputs": [
    {
     "name": "stderr",
     "output_type": "stream",
     "text": [
      "/opt/anaconda3/lib/python3.8/site-packages/scipy/stats/stats.py:1603: UserWarning: kurtosistest only valid for n>=20 ... continuing anyway, n=11\n",
      "  warnings.warn(\"kurtosistest only valid for n>=20 ... continuing \"\n"
     ]
    },
    {
     "data": {
      "text/html": [
       "<table class=\"simpletable\">\n",
       "<caption>OLS Regression Results</caption>\n",
       "<tr>\n",
       "  <th>Dep. Variable:</th>            <td>Y</td>        <th>  R-squared:         </th> <td>   0.997</td>\n",
       "</tr>\n",
       "<tr>\n",
       "  <th>Model:</th>                   <td>OLS</td>       <th>  Adj. R-squared:    </th> <td>   0.983</td>\n",
       "</tr>\n",
       "<tr>\n",
       "  <th>Method:</th>             <td>Least Squares</td>  <th>  F-statistic:       </th> <td>   73.21</td>\n",
       "</tr>\n",
       "<tr>\n",
       "  <th>Date:</th>             <td>Fri, 24 Sep 2021</td> <th>  Prob (F-statistic):</th>  <td>0.0135</td> \n",
       "</tr>\n",
       "<tr>\n",
       "  <th>Time:</th>                 <td>23:21:20</td>     <th>  Log-Likelihood:    </th> <td> 0.78136</td>\n",
       "</tr>\n",
       "<tr>\n",
       "  <th>No. Observations:</th>      <td>    11</td>      <th>  AIC:               </th> <td>   16.44</td>\n",
       "</tr>\n",
       "<tr>\n",
       "  <th>Df Residuals:</th>          <td>     2</td>      <th>  BIC:               </th> <td>   20.02</td>\n",
       "</tr>\n",
       "<tr>\n",
       "  <th>Df Model:</th>              <td>     8</td>      <th>                     </th>     <td> </td>   \n",
       "</tr>\n",
       "<tr>\n",
       "  <th>Covariance Type:</th>      <td>nonrobust</td>    <th>                     </th>     <td> </td>   \n",
       "</tr>\n",
       "</table>\n",
       "<table class=\"simpletable\">\n",
       "<tr>\n",
       "      <td></td>         <th>coef</th>     <th>std err</th>      <th>t</th>      <th>P>|t|</th>  <th>[0.025</th>    <th>0.975]</th>  \n",
       "</tr>\n",
       "<tr>\n",
       "  <th>Intercept</th> <td>   10.0040</td> <td>    4.698</td> <td>    2.129</td> <td> 0.167</td> <td>  -10.211</td> <td>   30.219</td>\n",
       "</tr>\n",
       "<tr>\n",
       "  <th>X1</th>        <td>   -0.0002</td> <td>    0.000</td> <td>   -0.917</td> <td> 0.456</td> <td>   -0.001</td> <td>    0.001</td>\n",
       "</tr>\n",
       "<tr>\n",
       "  <th>X2</th>        <td>   36.5062</td> <td>   10.691</td> <td>    3.415</td> <td> 0.076</td> <td>   -9.493</td> <td>   82.505</td>\n",
       "</tr>\n",
       "<tr>\n",
       "  <th>X3</th>        <td>    0.0002</td> <td>    7e-05</td> <td>    2.645</td> <td> 0.118</td> <td>   -0.000</td> <td>    0.000</td>\n",
       "</tr>\n",
       "<tr>\n",
       "  <th>X4</th>        <td>  107.3331</td> <td>   18.942</td> <td>    5.667</td> <td> 0.030</td> <td>   25.834</td> <td>  188.832</td>\n",
       "</tr>\n",
       "<tr>\n",
       "  <th>X5</th>        <td>-3.622e-05</td> <td> 8.14e-05</td> <td>   -0.445</td> <td> 0.700</td> <td>   -0.000</td> <td>    0.000</td>\n",
       "</tr>\n",
       "<tr>\n",
       "  <th>X6</th>        <td>   -9.8035</td> <td>   14.055</td> <td>   -0.698</td> <td> 0.558</td> <td>  -70.277</td> <td>   50.670</td>\n",
       "</tr>\n",
       "<tr>\n",
       "  <th>X13</th>       <td>   -0.0371</td> <td>    0.091</td> <td>   -0.406</td> <td> 0.724</td> <td>   -0.431</td> <td>    0.356</td>\n",
       "</tr>\n",
       "<tr>\n",
       "  <th>X14</th>       <td>   -0.1051</td> <td>    0.083</td> <td>   -1.261</td> <td> 0.335</td> <td>   -0.464</td> <td>    0.254</td>\n",
       "</tr>\n",
       "<tr>\n",
       "  <th>X15</th>       <td>   10.0040</td> <td>    4.698</td> <td>    2.129</td> <td> 0.167</td> <td>  -10.211</td> <td>   30.219</td>\n",
       "</tr>\n",
       "</table>\n",
       "<table class=\"simpletable\">\n",
       "<tr>\n",
       "  <th>Omnibus:</th>       <td> 4.770</td> <th>  Durbin-Watson:     </th> <td>   2.584</td>\n",
       "</tr>\n",
       "<tr>\n",
       "  <th>Prob(Omnibus):</th> <td> 0.092</td> <th>  Jarque-Bera (JB):  </th> <td>   1.874</td>\n",
       "</tr>\n",
       "<tr>\n",
       "  <th>Skew:</th>          <td>-0.972</td> <th>  Prob(JB):          </th> <td>   0.392</td>\n",
       "</tr>\n",
       "<tr>\n",
       "  <th>Kurtosis:</th>      <td> 3.557</td> <th>  Cond. No.          </th> <td>2.66e+20</td>\n",
       "</tr>\n",
       "</table><br/><br/>Notes:<br/>[1] Standard Errors assume that the covariance matrix of the errors is correctly specified.<br/>[2] The smallest eigenvalue is 4.83e-32. This might indicate that there are<br/>strong multicollinearity problems or that the design matrix is singular."
      ],
      "text/plain": [
       "<class 'statsmodels.iolib.summary.Summary'>\n",
       "\"\"\"\n",
       "                            OLS Regression Results                            \n",
       "==============================================================================\n",
       "Dep. Variable:                      Y   R-squared:                       0.997\n",
       "Model:                            OLS   Adj. R-squared:                  0.983\n",
       "Method:                 Least Squares   F-statistic:                     73.21\n",
       "Date:                Fri, 24 Sep 2021   Prob (F-statistic):             0.0135\n",
       "Time:                        23:21:20   Log-Likelihood:                0.78136\n",
       "No. Observations:                  11   AIC:                             16.44\n",
       "Df Residuals:                       2   BIC:                             20.02\n",
       "Df Model:                           8                                         \n",
       "Covariance Type:            nonrobust                                         \n",
       "==============================================================================\n",
       "                 coef    std err          t      P>|t|      [0.025      0.975]\n",
       "------------------------------------------------------------------------------\n",
       "Intercept     10.0040      4.698      2.129      0.167     -10.211      30.219\n",
       "X1            -0.0002      0.000     -0.917      0.456      -0.001       0.001\n",
       "X2            36.5062     10.691      3.415      0.076      -9.493      82.505\n",
       "X3             0.0002      7e-05      2.645      0.118      -0.000       0.000\n",
       "X4           107.3331     18.942      5.667      0.030      25.834     188.832\n",
       "X5         -3.622e-05   8.14e-05     -0.445      0.700      -0.000       0.000\n",
       "X6            -9.8035     14.055     -0.698      0.558     -70.277      50.670\n",
       "X13           -0.0371      0.091     -0.406      0.724      -0.431       0.356\n",
       "X14           -0.1051      0.083     -1.261      0.335      -0.464       0.254\n",
       "X15           10.0040      4.698      2.129      0.167     -10.211      30.219\n",
       "==============================================================================\n",
       "Omnibus:                        4.770   Durbin-Watson:                   2.584\n",
       "Prob(Omnibus):                  0.092   Jarque-Bera (JB):                1.874\n",
       "Skew:                          -0.972   Prob(JB):                        0.392\n",
       "Kurtosis:                       3.557   Cond. No.                     2.66e+20\n",
       "==============================================================================\n",
       "\n",
       "Notes:\n",
       "[1] Standard Errors assume that the covariance matrix of the errors is correctly specified.\n",
       "[2] The smallest eigenvalue is 4.83e-32. This might indicate that there are\n",
       "strong multicollinearity problems or that the design matrix is singular.\n",
       "\"\"\""
      ]
     },
     "execution_count": 8,
     "metadata": {},
     "output_type": "execute_result"
    }
   ],
   "source": [
    "lm.summary()"
   ]
  },
  {
   "cell_type": "code",
   "execution_count": 9,
   "id": "3063ef89",
   "metadata": {},
   "outputs": [
    {
     "data": {
      "text/plain": [
       "Intercept     10.003953\n",
       "X1            -0.000151\n",
       "X2            36.506159\n",
       "X3             0.000185\n",
       "X4           107.333114\n",
       "X5            -0.000036\n",
       "X6            -9.803451\n",
       "X13           -0.037108\n",
       "X14           -0.105141\n",
       "X15           10.003953\n",
       "dtype: float64"
      ]
     },
     "execution_count": 9,
     "metadata": {},
     "output_type": "execute_result"
    }
   ],
   "source": [
    "lm.params"
   ]
  },
  {
   "cell_type": "code",
   "execution_count": 10,
   "id": "e6f2da80",
   "metadata": {},
   "outputs": [
    {
     "name": "stdout",
     "output_type": "stream",
     "text": [
      "Y = 10.00395296983777-0.00015065545509591795 X 1+ 36.506158759810006 X 2+ 0.00018525026530254022 X 3+ 107.3331140257277 X 4-3.621986405224532e-05 X 5-9.80345103392358 X 6-0.03710792707233468 X 7-0.10514095857365025 X 8+ 10.003952969836746 X 9"
     ]
    }
   ],
   "source": [
    "print('Y = ', end='')\n",
    "for index, value in enumerate(lm.params):\n",
    "    if index==0:\n",
    "        print(value, end='')\n",
    "    else:\n",
    "        if value>0:\n",
    "            print('+', value, 'X', index, end='')\n",
    "        else:\n",
    "            print(value, 'X', index, end='')"
   ]
  },
  {
   "cell_type": "code",
   "execution_count": 11,
   "id": "332a8ea5",
   "metadata": {},
   "outputs": [],
   "source": [
    "def mape(y_true, y_pred):\n",
    "    return np.mean(np.abs((y_true-y_pred)/y_true))*100"
   ]
  },
  {
   "cell_type": "code",
   "execution_count": 14,
   "id": "87d22e13",
   "metadata": {},
   "outputs": [
    {
     "data": {
      "text/html": [
       "<div>\n",
       "<style scoped>\n",
       "    .dataframe tbody tr th:only-of-type {\n",
       "        vertical-align: middle;\n",
       "    }\n",
       "\n",
       "    .dataframe tbody tr th {\n",
       "        vertical-align: top;\n",
       "    }\n",
       "\n",
       "    .dataframe thead th {\n",
       "        text-align: right;\n",
       "    }\n",
       "</style>\n",
       "<table border=\"1\" class=\"dataframe\">\n",
       "  <thead>\n",
       "    <tr style=\"text-align: right;\">\n",
       "      <th></th>\n",
       "      <th>training</th>\n",
       "    </tr>\n",
       "  </thead>\n",
       "  <tbody>\n",
       "    <tr>\n",
       "      <th>MAE</th>\n",
       "      <td>0.1747</td>\n",
       "    </tr>\n",
       "    <tr>\n",
       "      <th>MSE</th>\n",
       "      <td>0.0508</td>\n",
       "    </tr>\n",
       "    <tr>\n",
       "      <th>RMSE</th>\n",
       "      <td>0.2254</td>\n",
       "    </tr>\n",
       "    <tr>\n",
       "      <th>MAPE</th>\n",
       "      <td>0.7868%</td>\n",
       "    </tr>\n",
       "  </tbody>\n",
       "</table>\n",
       "</div>"
      ],
      "text/plain": [
       "     training\n",
       "MAE    0.1747\n",
       "MSE    0.0508\n",
       "RMSE   0.2254\n",
       "MAPE  0.7868%"
      ]
     },
     "execution_count": 14,
     "metadata": {},
     "output_type": "execute_result"
    }
   ],
   "source": [
    "def table(lm, data, w):\n",
    "    y_pred = lm.predict(data)\n",
    "    y_true = data[\"Y\"]\n",
    "   # print(y_true[190])\n",
    "    #print(np.where(np.isnan(y_pred)))\n",
    "    #print(y_pred, y_true)\n",
    "    MAE = round(metrics.mean_absolute_error(y_true, y_pred), 4)\n",
    "    #print(metrics.mean_absolute_error(y_true, y_pred))\n",
    "    MSE = round(metrics.mean_squared_error(y_true, y_pred), 4)\n",
    "    RMSE = round(np.sqrt(metrics.mean_squared_error(y_true, y_pred)), 4)\n",
    "    try:\n",
    "        MAPE =  str(round(mape(y_true, y_pred), 4))+'%'\n",
    "    except ZeroDivisionError:\n",
    "        MAPE = \"NAN\"\n",
    "    errortype = [\"MAE\", \"MSE\", \"RMSE\", \"MAPE\"]\n",
    "    error = [MAE, MSE, RMSE, MAPE]\n",
    "    #print(error)\n",
    "    if w == \"train\":\n",
    "        error_dict = {\" \":errortype, \"training\":error}\n",
    "    elif w == \"test\":\n",
    "        error_dict = {\" \":errortype, \"testing\":error}\n",
    "    #error_dict = {\" \":errortype, \"誤差分析\":error}\n",
    "    pd.options.display.float_format = '{:.4f}'.format\n",
    "    df = pd.DataFrame(error_dict)\n",
    "    df = df.set_index(\" \").rename_axis(None)\n",
    "    #print(df)\n",
    "    return df\n",
    "\n",
    "df1 = table(lm, traindata, \"train\")\n",
    "df1"
   ]
  },
  {
   "cell_type": "code",
   "execution_count": 15,
   "id": "fa39da1a",
   "metadata": {},
   "outputs": [
    {
     "data": {
      "text/html": [
       "<div>\n",
       "<style scoped>\n",
       "    .dataframe tbody tr th:only-of-type {\n",
       "        vertical-align: middle;\n",
       "    }\n",
       "\n",
       "    .dataframe tbody tr th {\n",
       "        vertical-align: top;\n",
       "    }\n",
       "\n",
       "    .dataframe thead th {\n",
       "        text-align: right;\n",
       "    }\n",
       "</style>\n",
       "<table border=\"1\" class=\"dataframe\">\n",
       "  <thead>\n",
       "    <tr style=\"text-align: right;\">\n",
       "      <th></th>\n",
       "      <th>testing</th>\n",
       "    </tr>\n",
       "  </thead>\n",
       "  <tbody>\n",
       "    <tr>\n",
       "      <th>MAE</th>\n",
       "      <td>2.5472</td>\n",
       "    </tr>\n",
       "    <tr>\n",
       "      <th>MSE</th>\n",
       "      <td>7.7660</td>\n",
       "    </tr>\n",
       "    <tr>\n",
       "      <th>RMSE</th>\n",
       "      <td>2.7867</td>\n",
       "    </tr>\n",
       "    <tr>\n",
       "      <th>MAPE</th>\n",
       "      <td>10.6493%</td>\n",
       "    </tr>\n",
       "  </tbody>\n",
       "</table>\n",
       "</div>"
      ],
      "text/plain": [
       "       testing\n",
       "MAE     2.5472\n",
       "MSE     7.7660\n",
       "RMSE    2.7867\n",
       "MAPE  10.6493%"
      ]
     },
     "execution_count": 15,
     "metadata": {},
     "output_type": "execute_result"
    }
   ],
   "source": [
    "df2 = table(lm, testdata, \"test\")\n",
    "df2"
   ]
  },
  {
   "cell_type": "code",
   "execution_count": null,
   "id": "dbe10359",
   "metadata": {},
   "outputs": [],
   "source": []
  }
 ],
 "metadata": {
  "kernelspec": {
   "display_name": "Python 3",
   "language": "python",
   "name": "python3"
  },
  "language_info": {
   "codemirror_mode": {
    "name": "ipython",
    "version": 3
   },
   "file_extension": ".py",
   "mimetype": "text/x-python",
   "name": "python",
   "nbconvert_exporter": "python",
   "pygments_lexer": "ipython3",
   "version": "3.8.8"
  }
 },
 "nbformat": 4,
 "nbformat_minor": 5
}
