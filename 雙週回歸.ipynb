{
 "cells": [
  {
   "cell_type": "code",
   "execution_count": 12,
   "id": "a1d68179",
   "metadata": {},
   "outputs": [],
   "source": [
    "import pandas as pd\n",
    "import numpy as np\n",
    "from sklearn import metrics\n",
    "from statsmodels.formula.api import ols"
   ]
  },
  {
   "cell_type": "code",
   "execution_count": 3,
   "id": "0596afd7",
   "metadata": {},
   "outputs": [],
   "source": [
    "RDL = pd.read_excel(\"/Users/moca_lucy/Documents/大學/專題/RDL_AlCu/RDL_biweekly+four-weekly+monthly.xlsx\", sheet_name=\"Biweekly\", header=0)"
   ]
  },
  {
   "cell_type": "code",
   "execution_count": 22,
   "id": "73da7ea3",
   "metadata": {},
   "outputs": [],
   "source": [
    "traindata = RDL[0:24]\n",
    "testdata = RDL[24:]\n",
    "#traindata"
   ]
  },
  {
   "cell_type": "code",
   "execution_count": 6,
   "id": "a7ea3712",
   "metadata": {},
   "outputs": [],
   "source": [
    "regression = ols(formula='Y~X1+X2+X3+X4+X5+X6+X13+X14+X15', data=traindata)\n",
    "lm = regression.fit()"
   ]
  },
  {
   "cell_type": "code",
   "execution_count": 8,
   "id": "f7c8f482",
   "metadata": {},
   "outputs": [
    {
     "data": {
      "text/html": [
       "<table class=\"simpletable\">\n",
       "<caption>OLS Regression Results</caption>\n",
       "<tr>\n",
       "  <th>Dep. Variable:</th>            <td>Y</td>        <th>  R-squared:         </th> <td>   0.885</td>\n",
       "</tr>\n",
       "<tr>\n",
       "  <th>Model:</th>                   <td>OLS</td>       <th>  Adj. R-squared:    </th> <td>   0.823</td>\n",
       "</tr>\n",
       "<tr>\n",
       "  <th>Method:</th>             <td>Least Squares</td>  <th>  F-statistic:       </th> <td>   14.38</td>\n",
       "</tr>\n",
       "<tr>\n",
       "  <th>Date:</th>             <td>Fri, 24 Sep 2021</td> <th>  Prob (F-statistic):</th> <td>9.44e-06</td>\n",
       "</tr>\n",
       "<tr>\n",
       "  <th>Time:</th>                 <td>22:01:34</td>     <th>  Log-Likelihood:    </th> <td> -37.178</td>\n",
       "</tr>\n",
       "<tr>\n",
       "  <th>No. Observations:</th>      <td>    24</td>      <th>  AIC:               </th> <td>   92.36</td>\n",
       "</tr>\n",
       "<tr>\n",
       "  <th>Df Residuals:</th>          <td>    15</td>      <th>  BIC:               </th> <td>   103.0</td>\n",
       "</tr>\n",
       "<tr>\n",
       "  <th>Df Model:</th>              <td>     8</td>      <th>                     </th>     <td> </td>   \n",
       "</tr>\n",
       "<tr>\n",
       "  <th>Covariance Type:</th>      <td>nonrobust</td>    <th>                     </th>     <td> </td>   \n",
       "</tr>\n",
       "</table>\n",
       "<table class=\"simpletable\">\n",
       "<tr>\n",
       "      <td></td>         <th>coef</th>     <th>std err</th>      <th>t</th>      <th>P>|t|</th>  <th>[0.025</th>    <th>0.975]</th>  \n",
       "</tr>\n",
       "<tr>\n",
       "  <th>Intercept</th> <td>   -2.9797</td> <td>    5.587</td> <td>   -0.533</td> <td> 0.602</td> <td>  -14.888</td> <td>    8.928</td>\n",
       "</tr>\n",
       "<tr>\n",
       "  <th>X1</th>        <td>    0.0006</td> <td>    0.000</td> <td>    1.301</td> <td> 0.213</td> <td>   -0.000</td> <td>    0.002</td>\n",
       "</tr>\n",
       "<tr>\n",
       "  <th>X2</th>        <td>    9.8623</td> <td>   11.673</td> <td>    0.845</td> <td> 0.411</td> <td>  -15.017</td> <td>   34.742</td>\n",
       "</tr>\n",
       "<tr>\n",
       "  <th>X3</th>        <td>    0.0011</td> <td>    0.000</td> <td>    4.726</td> <td> 0.000</td> <td>    0.001</td> <td>    0.002</td>\n",
       "</tr>\n",
       "<tr>\n",
       "  <th>X4</th>        <td>  -11.0984</td> <td>   20.255</td> <td>   -0.548</td> <td> 0.592</td> <td>  -54.272</td> <td>   32.075</td>\n",
       "</tr>\n",
       "<tr>\n",
       "  <th>X5</th>        <td>    0.0009</td> <td>    0.000</td> <td>    4.210</td> <td> 0.001</td> <td>    0.000</td> <td>    0.001</td>\n",
       "</tr>\n",
       "<tr>\n",
       "  <th>X6</th>        <td>    2.0902</td> <td>   17.239</td> <td>    0.121</td> <td> 0.905</td> <td>  -34.654</td> <td>   38.835</td>\n",
       "</tr>\n",
       "<tr>\n",
       "  <th>X13</th>       <td>    0.0424</td> <td>    0.156</td> <td>    0.271</td> <td> 0.790</td> <td>   -0.291</td> <td>    0.376</td>\n",
       "</tr>\n",
       "<tr>\n",
       "  <th>X14</th>       <td>    0.0052</td> <td>    0.145</td> <td>    0.036</td> <td> 0.972</td> <td>   -0.304</td> <td>    0.314</td>\n",
       "</tr>\n",
       "<tr>\n",
       "  <th>X15</th>       <td>   -2.9797</td> <td>    5.587</td> <td>   -0.533</td> <td> 0.602</td> <td>  -14.888</td> <td>    8.928</td>\n",
       "</tr>\n",
       "</table>\n",
       "<table class=\"simpletable\">\n",
       "<tr>\n",
       "  <th>Omnibus:</th>       <td> 0.293</td> <th>  Durbin-Watson:     </th> <td>   2.819</td>\n",
       "</tr>\n",
       "<tr>\n",
       "  <th>Prob(Omnibus):</th> <td> 0.864</td> <th>  Jarque-Bera (JB):  </th> <td>   0.444</td>\n",
       "</tr>\n",
       "<tr>\n",
       "  <th>Skew:</th>          <td>-0.203</td> <th>  Prob(JB):          </th> <td>   0.801</td>\n",
       "</tr>\n",
       "<tr>\n",
       "  <th>Kurtosis:</th>      <td> 2.473</td> <th>  Cond. No.          </th> <td>6.84e+19</td>\n",
       "</tr>\n",
       "</table><br/><br/>Notes:<br/>[1] Standard Errors assume that the covariance matrix of the errors is correctly specified.<br/>[2] The smallest eigenvalue is 3.43e-31. This might indicate that there are<br/>strong multicollinearity problems or that the design matrix is singular."
      ],
      "text/plain": [
       "<class 'statsmodels.iolib.summary.Summary'>\n",
       "\"\"\"\n",
       "                            OLS Regression Results                            \n",
       "==============================================================================\n",
       "Dep. Variable:                      Y   R-squared:                       0.885\n",
       "Model:                            OLS   Adj. R-squared:                  0.823\n",
       "Method:                 Least Squares   F-statistic:                     14.38\n",
       "Date:                Fri, 24 Sep 2021   Prob (F-statistic):           9.44e-06\n",
       "Time:                        22:01:34   Log-Likelihood:                -37.178\n",
       "No. Observations:                  24   AIC:                             92.36\n",
       "Df Residuals:                      15   BIC:                             103.0\n",
       "Df Model:                           8                                         \n",
       "Covariance Type:            nonrobust                                         \n",
       "==============================================================================\n",
       "                 coef    std err          t      P>|t|      [0.025      0.975]\n",
       "------------------------------------------------------------------------------\n",
       "Intercept     -2.9797      5.587     -0.533      0.602     -14.888       8.928\n",
       "X1             0.0006      0.000      1.301      0.213      -0.000       0.002\n",
       "X2             9.8623     11.673      0.845      0.411     -15.017      34.742\n",
       "X3             0.0011      0.000      4.726      0.000       0.001       0.002\n",
       "X4           -11.0984     20.255     -0.548      0.592     -54.272      32.075\n",
       "X5             0.0009      0.000      4.210      0.001       0.000       0.001\n",
       "X6             2.0902     17.239      0.121      0.905     -34.654      38.835\n",
       "X13            0.0424      0.156      0.271      0.790      -0.291       0.376\n",
       "X14            0.0052      0.145      0.036      0.972      -0.304       0.314\n",
       "X15           -2.9797      5.587     -0.533      0.602     -14.888       8.928\n",
       "==============================================================================\n",
       "Omnibus:                        0.293   Durbin-Watson:                   2.819\n",
       "Prob(Omnibus):                  0.864   Jarque-Bera (JB):                0.444\n",
       "Skew:                          -0.203   Prob(JB):                        0.801\n",
       "Kurtosis:                       2.473   Cond. No.                     6.84e+19\n",
       "==============================================================================\n",
       "\n",
       "Notes:\n",
       "[1] Standard Errors assume that the covariance matrix of the errors is correctly specified.\n",
       "[2] The smallest eigenvalue is 3.43e-31. This might indicate that there are\n",
       "strong multicollinearity problems or that the design matrix is singular.\n",
       "\"\"\""
      ]
     },
     "execution_count": 8,
     "metadata": {},
     "output_type": "execute_result"
    }
   ],
   "source": [
    "lm.summary()"
   ]
  },
  {
   "cell_type": "code",
   "execution_count": 23,
   "id": "3063ef89",
   "metadata": {},
   "outputs": [
    {
     "data": {
      "text/plain": [
       "Intercept    -2.9797\n",
       "X1            0.0006\n",
       "X2            9.8623\n",
       "X3            0.0011\n",
       "X4          -11.0984\n",
       "X5            0.0009\n",
       "X6            2.0902\n",
       "X13           0.0424\n",
       "X14           0.0052\n",
       "X15          -2.9797\n",
       "dtype: float64"
      ]
     },
     "execution_count": 23,
     "metadata": {},
     "output_type": "execute_result"
    }
   ],
   "source": [
    "lm.params"
   ]
  },
  {
   "cell_type": "code",
   "execution_count": 25,
   "id": "e6f2da80",
   "metadata": {},
   "outputs": [
    {
     "name": "stdout",
     "output_type": "stream",
     "text": [
      "Y = -2.9796696710348307+ 0.0006041877091460209 X 1+ 9.862259690445157 X 2+ 0.0010538330776105574 X 3-11.098431483346555 X 4+ 0.0009272387762595965 X 5+ 2.0901968011595358 X 6+ 0.04240051984370974 X 7+ 0.00524187751834615 X 8-2.9796696710347383 X 9"
     ]
    }
   ],
   "source": [
    "print('Y = ', end='')\n",
    "for index, value in enumerate(lm.params):\n",
    "    if index==0:\n",
    "        print(value, end='')\n",
    "    else:\n",
    "        if value>0:\n",
    "            print('+', value, 'X', index, end='')\n",
    "        else:\n",
    "            print(value, 'X', index, end='')"
   ]
  },
  {
   "cell_type": "code",
   "execution_count": 9,
   "id": "332a8ea5",
   "metadata": {},
   "outputs": [],
   "source": [
    "def mape(y_true, y_pred):\n",
    "    return np.mean(np.abs((y_true-y_pred)/y_true))*100"
   ]
  },
  {
   "cell_type": "code",
   "execution_count": 26,
   "id": "87d22e13",
   "metadata": {},
   "outputs": [
    {
     "data": {
      "text/html": [
       "<div>\n",
       "<style scoped>\n",
       "    .dataframe tbody tr th:only-of-type {\n",
       "        vertical-align: middle;\n",
       "    }\n",
       "\n",
       "    .dataframe tbody tr th {\n",
       "        vertical-align: top;\n",
       "    }\n",
       "\n",
       "    .dataframe thead th {\n",
       "        text-align: right;\n",
       "    }\n",
       "</style>\n",
       "<table border=\"1\" class=\"dataframe\">\n",
       "  <thead>\n",
       "    <tr style=\"text-align: right;\">\n",
       "      <th></th>\n",
       "      <th>training</th>\n",
       "    </tr>\n",
       "  </thead>\n",
       "  <tbody>\n",
       "    <tr>\n",
       "      <th>MAE</th>\n",
       "      <td>0.9583</td>\n",
       "    </tr>\n",
       "    <tr>\n",
       "      <th>MSE</th>\n",
       "      <td>1.6250</td>\n",
       "    </tr>\n",
       "    <tr>\n",
       "      <th>RMSE</th>\n",
       "      <td>1.2748</td>\n",
       "    </tr>\n",
       "    <tr>\n",
       "      <th>MAPE</th>\n",
       "      <td>9.0966%</td>\n",
       "    </tr>\n",
       "  </tbody>\n",
       "</table>\n",
       "</div>"
      ],
      "text/plain": [
       "     training\n",
       "MAE    0.9583\n",
       "MSE    1.6250\n",
       "RMSE   1.2748\n",
       "MAPE  9.0966%"
      ]
     },
     "execution_count": 26,
     "metadata": {},
     "output_type": "execute_result"
    }
   ],
   "source": [
    "def table(lm, data, w):\n",
    "    y_pred = round(lm.predict(data), 0)\n",
    "    y_true = data[\"Y\"]\n",
    "   # print(y_true[190])\n",
    "    #print(np.where(np.isnan(y_pred)))\n",
    "    #print(y_pred, y_true)\n",
    "    MAE = round(metrics.mean_absolute_error(y_true, y_pred), 4)\n",
    "    #print(metrics.mean_absolute_error(y_true, y_pred))\n",
    "    MSE = round(metrics.mean_squared_error(y_true, y_pred), 4)\n",
    "    RMSE = round(np.sqrt(metrics.mean_squared_error(y_true, y_pred)), 4)\n",
    "    try:\n",
    "        MAPE =  str(round(mape(y_true, y_pred), 4))+'%'\n",
    "    except ZeroDivisionError:\n",
    "        MAPE = \"NAN\"\n",
    "    errortype = [\"MAE\", \"MSE\", \"RMSE\", \"MAPE\"]\n",
    "    error = [MAE, MSE, RMSE, MAPE]\n",
    "    #print(error)\n",
    "    if w == \"train\":\n",
    "        error_dict = {\" \":errortype, \"training\":error}\n",
    "    elif w == \"test\":\n",
    "        error_dict = {\" \":errortype, \"testing\":error}\n",
    "    #error_dict = {\" \":errortype, \"誤差分析\":error}\n",
    "    pd.options.display.float_format = '{:.4f}'.format\n",
    "    df = pd.DataFrame(error_dict)\n",
    "    df = df.set_index(\" \").rename_axis(None)\n",
    "    #print(df)\n",
    "    return df\n",
    "\n",
    "df1 = table(lm, traindata, \"train\")\n",
    "df1"
   ]
  },
  {
   "cell_type": "code",
   "execution_count": 27,
   "id": "fa39da1a",
   "metadata": {},
   "outputs": [
    {
     "data": {
      "text/html": [
       "<div>\n",
       "<style scoped>\n",
       "    .dataframe tbody tr th:only-of-type {\n",
       "        vertical-align: middle;\n",
       "    }\n",
       "\n",
       "    .dataframe tbody tr th {\n",
       "        vertical-align: top;\n",
       "    }\n",
       "\n",
       "    .dataframe thead th {\n",
       "        text-align: right;\n",
       "    }\n",
       "</style>\n",
       "<table border=\"1\" class=\"dataframe\">\n",
       "  <thead>\n",
       "    <tr style=\"text-align: right;\">\n",
       "      <th></th>\n",
       "      <th>testing</th>\n",
       "    </tr>\n",
       "  </thead>\n",
       "  <tbody>\n",
       "    <tr>\n",
       "      <th>MAE</th>\n",
       "      <td>1.0000</td>\n",
       "    </tr>\n",
       "    <tr>\n",
       "      <th>MSE</th>\n",
       "      <td>1.6667</td>\n",
       "    </tr>\n",
       "    <tr>\n",
       "      <th>RMSE</th>\n",
       "      <td>1.2910</td>\n",
       "    </tr>\n",
       "    <tr>\n",
       "      <th>MAPE</th>\n",
       "      <td>11.5476%</td>\n",
       "    </tr>\n",
       "  </tbody>\n",
       "</table>\n",
       "</div>"
      ],
      "text/plain": [
       "       testing\n",
       "MAE     1.0000\n",
       "MSE     1.6667\n",
       "RMSE    1.2910\n",
       "MAPE  11.5476%"
      ]
     },
     "execution_count": 27,
     "metadata": {},
     "output_type": "execute_result"
    }
   ],
   "source": [
    "df2 = table(lm, testdata, \"test\")\n",
    "df2"
   ]
  },
  {
   "cell_type": "code",
   "execution_count": null,
   "id": "dbe10359",
   "metadata": {},
   "outputs": [],
   "source": []
  }
 ],
 "metadata": {
  "kernelspec": {
   "display_name": "Python 3",
   "language": "python",
   "name": "python3"
  },
  "language_info": {
   "codemirror_mode": {
    "name": "ipython",
    "version": 3
   },
   "file_extension": ".py",
   "mimetype": "text/x-python",
   "name": "python",
   "nbconvert_exporter": "python",
   "pygments_lexer": "ipython3",
   "version": "3.8.8"
  }
 },
 "nbformat": 4,
 "nbformat_minor": 5
}
