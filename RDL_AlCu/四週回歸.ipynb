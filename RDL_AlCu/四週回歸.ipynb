{
 "cells": [
  {
   "cell_type": "code",
   "execution_count": 1,
   "id": "a1d68179",
   "metadata": {},
   "outputs": [],
   "source": [
    "import pandas as pd\n",
    "import numpy as np\n",
    "from sklearn import metrics\n",
    "from statsmodels.formula.api import ols"
   ]
  },
  {
   "cell_type": "code",
   "execution_count": 5,
   "id": "0596afd7",
   "metadata": {},
   "outputs": [],
   "source": [
    "RDL = pd.read_excel(\"/Users/moca_lucy/Documents/大學/專題/RDL_AlCu/RDL_biweekly+four-weekly+monthly.xlsx\", sheet_name=\"Four-weekly\", header=0, index_col=0)"
   ]
  },
  {
   "cell_type": "code",
   "execution_count": 19,
   "id": "73da7ea3",
   "metadata": {},
   "outputs": [],
   "source": [
    "traindata = RDL[0:12]\n",
    "testdata = RDL[12:]\n",
    "#traindata"
   ]
  },
  {
   "cell_type": "code",
   "execution_count": 20,
   "id": "a7ea3712",
   "metadata": {},
   "outputs": [],
   "source": [
    "regression = ols(formula='Y~X1+X2+X3+X4+X5+X6+X13+X14+X15', data=traindata)\n",
    "lm = regression.fit()"
   ]
  },
  {
   "cell_type": "code",
   "execution_count": 21,
   "id": "f7c8f482",
   "metadata": {},
   "outputs": [],
   "source": [
    "#lm.summary()"
   ]
  },
  {
   "cell_type": "code",
   "execution_count": 22,
   "id": "3063ef89",
   "metadata": {},
   "outputs": [],
   "source": [
    "#lm.params"
   ]
  },
  {
   "cell_type": "code",
   "execution_count": 23,
   "id": "e6f2da80",
   "metadata": {},
   "outputs": [
    {
     "data": {
      "text/plain": [
       "\"print('Y = ', end='')\\nfor index, value in enumerate(lm.params):\\n    if index==0:\\n        print(value, end='')\\n    else:\\n        if value>0:\\n            print('+', value, 'X', index, end='')\\n        else:\\n            print(value, 'X', index, end='')\""
      ]
     },
     "execution_count": 23,
     "metadata": {},
     "output_type": "execute_result"
    }
   ],
   "source": [
    "'''print('Y = ', end='')\n",
    "for index, value in enumerate(lm.params):\n",
    "    if index==0:\n",
    "        print(value, end='')\n",
    "    else:\n",
    "        if value>0:\n",
    "            print('+', value, 'X', index, end='')\n",
    "        else:\n",
    "            print(value, 'X', index, end='')'''"
   ]
  },
  {
   "cell_type": "code",
   "execution_count": 24,
   "id": "332a8ea5",
   "metadata": {},
   "outputs": [],
   "source": [
    "def mape(y_true, y_pred):\n",
    "    return np.mean(np.abs((y_true-y_pred)/y_true))*100"
   ]
  },
  {
   "cell_type": "code",
   "execution_count": 25,
   "id": "d850304b",
   "metadata": {},
   "outputs": [],
   "source": [
    "def mase(y_true, y_pred):\n",
    "    y_num = y_true.size\n",
    "    d = np.abs(np.diff(y_true)).sum()/(y_num-1)\n",
    "    ret = np.abs(y_true - y_pred)\n",
    "    return ret.mean()/d"
   ]
  },
  {
   "cell_type": "code",
   "execution_count": 26,
   "id": "87d22e13",
   "metadata": {},
   "outputs": [
    {
     "data": {
      "text/html": [
       "<div>\n",
       "<style scoped>\n",
       "    .dataframe tbody tr th:only-of-type {\n",
       "        vertical-align: middle;\n",
       "    }\n",
       "\n",
       "    .dataframe tbody tr th {\n",
       "        vertical-align: top;\n",
       "    }\n",
       "\n",
       "    .dataframe thead th {\n",
       "        text-align: right;\n",
       "    }\n",
       "</style>\n",
       "<table border=\"1\" class=\"dataframe\">\n",
       "  <thead>\n",
       "    <tr style=\"text-align: right;\">\n",
       "      <th></th>\n",
       "      <th>training</th>\n",
       "    </tr>\n",
       "  </thead>\n",
       "  <tbody>\n",
       "    <tr>\n",
       "      <th>MAE</th>\n",
       "      <td>0.5833</td>\n",
       "    </tr>\n",
       "    <tr>\n",
       "      <th>MSE</th>\n",
       "      <td>0.5833</td>\n",
       "    </tr>\n",
       "    <tr>\n",
       "      <th>RMSE</th>\n",
       "      <td>0.7638</td>\n",
       "    </tr>\n",
       "    <tr>\n",
       "      <th>MAPE</th>\n",
       "      <td>2.8011%</td>\n",
       "    </tr>\n",
       "    <tr>\n",
       "      <th>MASE</th>\n",
       "      <td>0.0867</td>\n",
       "    </tr>\n",
       "  </tbody>\n",
       "</table>\n",
       "</div>"
      ],
      "text/plain": [
       "     training\n",
       "MAE    0.5833\n",
       "MSE    0.5833\n",
       "RMSE   0.7638\n",
       "MAPE  2.8011%\n",
       "MASE   0.0867"
      ]
     },
     "execution_count": 26,
     "metadata": {},
     "output_type": "execute_result"
    }
   ],
   "source": [
    "def table(lm, data, w):\n",
    "    y_pred = round(lm.predict(data), 0)\n",
    "    y_true = data[\"Y\"]\n",
    "   # print(y_true[190])\n",
    "    #print(np.where(np.isnan(y_pred)))\n",
    "    #print(y_pred, y_true)\n",
    "    MAE = round(metrics.mean_absolute_error(y_true, y_pred), 4)\n",
    "    #print(metrics.mean_absolute_error(y_true, y_pred))\n",
    "    MSE = round(metrics.mean_squared_error(y_true, y_pred), 4)\n",
    "    RMSE = round(np.sqrt(metrics.mean_squared_error(y_true, y_pred)), 4)\n",
    "    try:\n",
    "        MAPE =  str(round(mape(y_true, y_pred), 4))+'%'\n",
    "    except ZeroDivisionError:\n",
    "        MAPE = \"NAN\"\n",
    "    MASE = round(mase(y_true, y_pred), 4)\n",
    "    errortype = [\"MAE\", \"MSE\", \"RMSE\", \"MAPE\", \"MASE\"]\n",
    "    error = [MAE, MSE, RMSE, MAPE, MASE]\n",
    "    #print(error)\n",
    "    if w == \"train\":\n",
    "        error_dict = {\" \":errortype, \"training\":error}\n",
    "    elif w == \"test\":\n",
    "        error_dict = {\" \":errortype, \"testing\":error}\n",
    "    #error_dict = {\" \":errortype, \"誤差分析\":error}\n",
    "    pd.options.display.float_format = '{:.4f}'.format\n",
    "    df = pd.DataFrame(error_dict)\n",
    "    df = df.set_index(\" \").rename_axis(None)\n",
    "    #print(df)\n",
    "    return df\n",
    "\n",
    "df1 = table(lm, traindata, \"train\")\n",
    "df1"
   ]
  },
  {
   "cell_type": "code",
   "execution_count": 27,
   "id": "fa39da1a",
   "metadata": {},
   "outputs": [
    {
     "data": {
      "text/html": [
       "<div>\n",
       "<style scoped>\n",
       "    .dataframe tbody tr th:only-of-type {\n",
       "        vertical-align: middle;\n",
       "    }\n",
       "\n",
       "    .dataframe tbody tr th {\n",
       "        vertical-align: top;\n",
       "    }\n",
       "\n",
       "    .dataframe thead th {\n",
       "        text-align: right;\n",
       "    }\n",
       "</style>\n",
       "<table border=\"1\" class=\"dataframe\">\n",
       "  <thead>\n",
       "    <tr style=\"text-align: right;\">\n",
       "      <th></th>\n",
       "      <th>testing</th>\n",
       "    </tr>\n",
       "  </thead>\n",
       "  <tbody>\n",
       "    <tr>\n",
       "      <th>MAE</th>\n",
       "      <td>1.6667</td>\n",
       "    </tr>\n",
       "    <tr>\n",
       "      <th>MSE</th>\n",
       "      <td>3.0000</td>\n",
       "    </tr>\n",
       "    <tr>\n",
       "      <th>RMSE</th>\n",
       "      <td>1.7321</td>\n",
       "    </tr>\n",
       "    <tr>\n",
       "      <th>MAPE</th>\n",
       "      <td>8.4895%</td>\n",
       "    </tr>\n",
       "    <tr>\n",
       "      <th>MASE</th>\n",
       "      <td>0.3333</td>\n",
       "    </tr>\n",
       "  </tbody>\n",
       "</table>\n",
       "</div>"
      ],
      "text/plain": [
       "      testing\n",
       "MAE    1.6667\n",
       "MSE    3.0000\n",
       "RMSE   1.7321\n",
       "MAPE  8.4895%\n",
       "MASE   0.3333"
      ]
     },
     "execution_count": 27,
     "metadata": {},
     "output_type": "execute_result"
    }
   ],
   "source": [
    "df2 = table(lm, testdata, \"test\")\n",
    "df2"
   ]
  },
  {
   "cell_type": "code",
   "execution_count": null,
   "id": "dbe10359",
   "metadata": {},
   "outputs": [],
   "source": []
  }
 ],
 "metadata": {
  "kernelspec": {
   "display_name": "Python 3",
   "language": "python",
   "name": "python3"
  },
  "language_info": {
   "codemirror_mode": {
    "name": "ipython",
    "version": 3
   },
   "file_extension": ".py",
   "mimetype": "text/x-python",
   "name": "python",
   "nbconvert_exporter": "python",
   "pygments_lexer": "ipython3",
   "version": "3.8.8"
  }
 },
 "nbformat": 4,
 "nbformat_minor": 5
}
