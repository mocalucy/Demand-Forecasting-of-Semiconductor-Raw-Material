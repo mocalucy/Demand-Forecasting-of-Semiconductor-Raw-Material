{
 "cells": [
  {
   "cell_type": "code",
   "execution_count": 2,
   "metadata": {},
   "outputs": [],
   "source": [
    "import pandas as pd  \n",
    "import numpy as np  \n",
    "from sklearn.svm import SVR\n",
    "from sklearn import metrics\n",
    "import matplotlib.pyplot as plt \n",
    "from sklearn.model_selection import GridSearchCV"
   ]
  },
  {
   "cell_type": "code",
   "execution_count": 3,
   "metadata": {},
   "outputs": [],
   "source": [
    "RDL = pd.read_excel(\"/Users/moca_lucy/Documents/大學/專題/RDL_AlCu/PCA_newdata(RDL).xlsx\", sheet_name=\"Daily\", header=0)"
   ]
  },
  {
   "cell_type": "code",
   "execution_count": 87,
   "metadata": {},
   "outputs": [],
   "source": [
    "traindata = RDL[0:336]\n",
    "testdata = RDL[336:397]\n",
    "x_columns = [\"PC1\", \"PC2\", \"PC3\", \"PC4\"]\n",
    "x_train = traindata[x_columns]\n",
    "traindata\n",
    "y_train = traindata[\"Y\"]\n",
    "x_test = testdata[x_columns]\n",
    "y_test = testdata[\"Y\"]\n",
    "#type(y_train)\n",
    "#testdata"
   ]
  },
  {
   "cell_type": "code",
   "execution_count": 84,
   "metadata": {},
   "outputs": [
    {
     "name": "stdout",
     "output_type": "stream",
     "text": [
      "the test score of SVR:0.987\n",
      "the test score of SVR:-0.001\n"
     ]
    }
   ],
   "source": [
    "cls = SVR(kernel=\"rbf\", C=6, gamma=1)\n",
    "cls.fit(x_train, y_train)\n",
    "print(\"the test score of SVR:{:.3f}\".format(cls.score(x_train, y_train)))\n",
    "print(\"the test score of SVR:{:.3f}\".format(cls.score(x_test, y_test)))"
   ]
  },
  {
   "cell_type": "code",
   "execution_count": null,
   "metadata": {},
   "outputs": [],
   "source": [
    "'''parameters = {'kernel': ('linear', 'rbf'), 'C': [1, 2, 4], 'gamma': [0.125, 0.25, 0.5, 1, 2, 4]}\n",
    "clf = GridSearchCV(cls, param_grid=parameters)\n",
    "grid_search = clf.fit(x_train, y_train)\n",
    "\n",
    "print(\"Best score: %0.3f\" % grid_search.best_score_)\n",
    "print(grid_search.best_estimator_)'''"
   ]
  },
  {
   "cell_type": "code",
   "execution_count": null,
   "metadata": {},
   "outputs": [],
   "source": [
    "#gammas = np.logspace(-2, 1)\n",
    "#gammas"
   ]
  },
  {
   "cell_type": "code",
   "execution_count": null,
   "metadata": {},
   "outputs": [],
   "source": [
    "#svr_predict = cls.predict(x_test)"
   ]
  },
  {
   "cell_type": "code",
   "execution_count": 77,
   "metadata": {},
   "outputs": [],
   "source": [
    "def mape(y_true, y_pred):\n",
    "    y_true, y_pred = np.array(y_true), np.array(y_pred)\n",
    "    sum=0\n",
    "    denom=0\n",
    "    for index, value in enumerate(y_true):\n",
    "        if value:\n",
    "            sum+=np.abs((y_true[index]-y_pred[index])/y_true[index])\n",
    "            denom+=1\n",
    "    return (sum/denom)*100"
   ]
  },
  {
   "cell_type": "code",
   "execution_count": 28,
   "metadata": {},
   "outputs": [],
   "source": [
    "def mase(y_true, y_pred):\n",
    "    y_num = y_true.size\n",
    "    d = np.abs(np.diff(y_true)).sum()/(y_num-1)\n",
    "    ret = np.abs(y_true - y_pred)\n",
    "    return ret.mean()/d"
   ]
  },
  {
   "cell_type": "code",
   "execution_count": 85,
   "metadata": {},
   "outputs": [
    {
     "data": {
      "text/html": [
       "<div>\n",
       "<style scoped>\n",
       "    .dataframe tbody tr th:only-of-type {\n",
       "        vertical-align: middle;\n",
       "    }\n",
       "\n",
       "    .dataframe tbody tr th {\n",
       "        vertical-align: top;\n",
       "    }\n",
       "\n",
       "    .dataframe thead th {\n",
       "        text-align: right;\n",
       "    }\n",
       "</style>\n",
       "<table border=\"1\" class=\"dataframe\">\n",
       "  <thead>\n",
       "    <tr style=\"text-align: right;\">\n",
       "      <th></th>\n",
       "      <th>training</th>\n",
       "    </tr>\n",
       "  </thead>\n",
       "  <tbody>\n",
       "    <tr>\n",
       "      <th>MAE</th>\n",
       "      <td>0.1000</td>\n",
       "    </tr>\n",
       "    <tr>\n",
       "      <th>MSE</th>\n",
       "      <td>0.0100</td>\n",
       "    </tr>\n",
       "    <tr>\n",
       "      <th>RMSE</th>\n",
       "      <td>0.1000</td>\n",
       "    </tr>\n",
       "    <tr>\n",
       "      <th>MAPE</th>\n",
       "      <td>8.0682%</td>\n",
       "    </tr>\n",
       "    <tr>\n",
       "      <th>MASE</th>\n",
       "      <td>0.1156</td>\n",
       "    </tr>\n",
       "  </tbody>\n",
       "</table>\n",
       "</div>"
      ],
      "text/plain": [
       "     training\n",
       "MAE    0.1000\n",
       "MSE    0.0100\n",
       "RMSE   0.1000\n",
       "MAPE  8.0682%\n",
       "MASE   0.1156"
      ]
     },
     "execution_count": 85,
     "metadata": {},
     "output_type": "execute_result"
    }
   ],
   "source": [
    "def table(lm, x, y, w):\n",
    "    y_pred = lm.predict(x)\n",
    "    y_true = y\n",
    "   # print(y_true[190])\n",
    "    #print(np.where(np.isnan(y_pred)))\n",
    "    #print(y_pred, y_true)\n",
    "    MAE = round(metrics.mean_absolute_error(y_true, y_pred), 4)\n",
    "    #print(metrics.mean_absolute_error(y_true, y_pred))\n",
    "    MSE = round(metrics.mean_squared_error(y_true, y_pred), 4)\n",
    "    RMSE = round(np.sqrt(metrics.mean_squared_error(y_true, y_pred)), 4)\n",
    "    MAPE =  str(round(mape(y_true, y_pred), 4))+'%'\n",
    "    MASE = round(mase(y_true, y_pred), 4)\n",
    "    errortype = [\"MAE\", \"MSE\", \"RMSE\", \"MAPE\", \"MASE\"]\n",
    "    error = [MAE, MSE, RMSE, MAPE, MASE]\n",
    "    #print(error)\n",
    "    if w == \"train\":\n",
    "        error_dict = {\" \":errortype, \"training\":error}\n",
    "    elif w == \"test\":\n",
    "        error_dict = {\" \":errortype, \"testing\":error}\n",
    "    #error_dict = {\" \":errortype, \"誤差分析\":error}\n",
    "    pd.options.display.float_format = '{:.4f}'.format\n",
    "    df = pd.DataFrame(error_dict)\n",
    "    df = df.set_index(\" \").rename_axis(None)\n",
    "    #print(df)\n",
    "    return df\n",
    "\n",
    "df1 = table(cls, x_train, y_train, \"train\")\n",
    "df1"
   ]
  },
  {
   "cell_type": "code",
   "execution_count": 88,
   "metadata": {},
   "outputs": [
    {
     "data": {
      "text/html": [
       "<div>\n",
       "<style scoped>\n",
       "    .dataframe tbody tr th:only-of-type {\n",
       "        vertical-align: middle;\n",
       "    }\n",
       "\n",
       "    .dataframe tbody tr th {\n",
       "        vertical-align: top;\n",
       "    }\n",
       "\n",
       "    .dataframe thead th {\n",
       "        text-align: right;\n",
       "    }\n",
       "</style>\n",
       "<table border=\"1\" class=\"dataframe\">\n",
       "  <thead>\n",
       "    <tr style=\"text-align: right;\">\n",
       "      <th></th>\n",
       "      <th>testing</th>\n",
       "    </tr>\n",
       "  </thead>\n",
       "  <tbody>\n",
       "    <tr>\n",
       "      <th>MAE</th>\n",
       "      <td>0.6927</td>\n",
       "    </tr>\n",
       "    <tr>\n",
       "      <th>MSE</th>\n",
       "      <td>0.7839</td>\n",
       "    </tr>\n",
       "    <tr>\n",
       "      <th>RMSE</th>\n",
       "      <td>0.8854</td>\n",
       "    </tr>\n",
       "    <tr>\n",
       "      <th>MAPE</th>\n",
       "      <td>36.479%</td>\n",
       "    </tr>\n",
       "    <tr>\n",
       "      <th>MASE</th>\n",
       "      <td>0.7993</td>\n",
       "    </tr>\n",
       "  </tbody>\n",
       "</table>\n",
       "</div>"
      ],
      "text/plain": [
       "      testing\n",
       "MAE    0.6927\n",
       "MSE    0.7839\n",
       "RMSE   0.8854\n",
       "MAPE  36.479%\n",
       "MASE   0.7993"
      ]
     },
     "execution_count": 88,
     "metadata": {},
     "output_type": "execute_result"
    }
   ],
   "source": [
    "df2 = table(cls, x_test, y_test, \"test\")\n",
    "df2"
   ]
  },
  {
   "cell_type": "code",
   "execution_count": null,
   "metadata": {},
   "outputs": [],
   "source": []
  }
 ],
 "metadata": {
  "kernelspec": {
   "display_name": "Python 3",
   "language": "python",
   "name": "python3"
  },
  "language_info": {
   "codemirror_mode": {
    "name": "ipython",
    "version": 3
   },
   "file_extension": ".py",
   "mimetype": "text/x-python",
   "name": "python",
   "nbconvert_exporter": "python",
   "pygments_lexer": "ipython3",
   "version": "3.8.8"
  }
 },
 "nbformat": 4,
 "nbformat_minor": 4
}
