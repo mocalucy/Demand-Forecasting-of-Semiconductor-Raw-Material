{
 "cells": [
  {
   "cell_type": "code",
   "execution_count": 1,
   "id": "a1d68179",
   "metadata": {},
   "outputs": [],
   "source": [
    "import pandas as pd\n",
    "import numpy as np\n",
    "from sklearn import metrics\n",
    "from statsmodels.formula.api import ols"
   ]
  },
  {
   "cell_type": "code",
   "execution_count": 2,
   "id": "0596afd7",
   "metadata": {},
   "outputs": [],
   "source": [
    "RDL = pd.read_excel(\"/Users/moca_lucy/Documents/大學/專題/RDL_AlCu/RDL_biweekly+four-weekly+monthly.xlsx\", sheet_name=\"Biweekly\", header=0)"
   ]
  },
  {
   "cell_type": "code",
   "execution_count": 19,
   "id": "73da7ea3",
   "metadata": {},
   "outputs": [
    {
     "data": {
      "text/html": [
       "<div>\n",
       "<style scoped>\n",
       "    .dataframe tbody tr th:only-of-type {\n",
       "        vertical-align: middle;\n",
       "    }\n",
       "\n",
       "    .dataframe tbody tr th {\n",
       "        vertical-align: top;\n",
       "    }\n",
       "\n",
       "    .dataframe thead th {\n",
       "        text-align: right;\n",
       "    }\n",
       "</style>\n",
       "<table border=\"1\" class=\"dataframe\">\n",
       "  <thead>\n",
       "    <tr style=\"text-align: right;\">\n",
       "      <th></th>\n",
       "      <th>Biweek</th>\n",
       "      <th>X1</th>\n",
       "      <th>X2</th>\n",
       "      <th>X3</th>\n",
       "      <th>X4</th>\n",
       "      <th>X5</th>\n",
       "      <th>X6</th>\n",
       "      <th>X13</th>\n",
       "      <th>X14</th>\n",
       "      <th>X15</th>\n",
       "      <th>Y</th>\n",
       "    </tr>\n",
       "  </thead>\n",
       "  <tbody>\n",
       "    <tr>\n",
       "      <th>24</th>\n",
       "      <td>2021-18</td>\n",
       "      <td>1023</td>\n",
       "      <td>0.1405</td>\n",
       "      <td>3075</td>\n",
       "      <td>0.1049</td>\n",
       "      <td>7422</td>\n",
       "      <td>0.0931</td>\n",
       "      <td>96.3039</td>\n",
       "      <td>83.6869</td>\n",
       "      <td>1</td>\n",
       "      <td>8</td>\n",
       "    </tr>\n",
       "    <tr>\n",
       "      <th>25</th>\n",
       "      <td>2021-20</td>\n",
       "      <td>1298</td>\n",
       "      <td>0.1751</td>\n",
       "      <td>10068</td>\n",
       "      <td>0.1617</td>\n",
       "      <td>9002</td>\n",
       "      <td>0.2317</td>\n",
       "      <td>98.4296</td>\n",
       "      <td>89.7086</td>\n",
       "      <td>1</td>\n",
       "      <td>19</td>\n",
       "    </tr>\n",
       "    <tr>\n",
       "      <th>26</th>\n",
       "      <td>2021-22</td>\n",
       "      <td>424</td>\n",
       "      <td>0.0722</td>\n",
       "      <td>2329</td>\n",
       "      <td>0.0754</td>\n",
       "      <td>11449</td>\n",
       "      <td>0.0895</td>\n",
       "      <td>97.8887</td>\n",
       "      <td>90.1226</td>\n",
       "      <td>1</td>\n",
       "      <td>10</td>\n",
       "    </tr>\n",
       "    <tr>\n",
       "      <th>27</th>\n",
       "      <td>2021-24</td>\n",
       "      <td>519</td>\n",
       "      <td>0.1472</td>\n",
       "      <td>5737</td>\n",
       "      <td>0.0728</td>\n",
       "      <td>4688</td>\n",
       "      <td>0.0750</td>\n",
       "      <td>95.4330</td>\n",
       "      <td>85.7408</td>\n",
       "      <td>1</td>\n",
       "      <td>10</td>\n",
       "    </tr>\n",
       "    <tr>\n",
       "      <th>28</th>\n",
       "      <td>2021-26</td>\n",
       "      <td>854</td>\n",
       "      <td>0.0756</td>\n",
       "      <td>3564</td>\n",
       "      <td>0.0537</td>\n",
       "      <td>4822</td>\n",
       "      <td>0.0493</td>\n",
       "      <td>95.2179</td>\n",
       "      <td>87.9899</td>\n",
       "      <td>1</td>\n",
       "      <td>7</td>\n",
       "    </tr>\n",
       "    <tr>\n",
       "      <th>29</th>\n",
       "      <td>2021-28</td>\n",
       "      <td>2552</td>\n",
       "      <td>0.0998</td>\n",
       "      <td>3814</td>\n",
       "      <td>0.0759</td>\n",
       "      <td>6844</td>\n",
       "      <td>0.1077</td>\n",
       "      <td>94.1363</td>\n",
       "      <td>90.5835</td>\n",
       "      <td>1</td>\n",
       "      <td>10</td>\n",
       "    </tr>\n",
       "  </tbody>\n",
       "</table>\n",
       "</div>"
      ],
      "text/plain": [
       "     Biweek    X1     X2     X3     X4     X5     X6     X13     X14  X15   Y\n",
       "24  2021-18  1023 0.1405   3075 0.1049   7422 0.0931 96.3039 83.6869    1   8\n",
       "25  2021-20  1298 0.1751  10068 0.1617   9002 0.2317 98.4296 89.7086    1  19\n",
       "26  2021-22   424 0.0722   2329 0.0754  11449 0.0895 97.8887 90.1226    1  10\n",
       "27  2021-24   519 0.1472   5737 0.0728   4688 0.0750 95.4330 85.7408    1  10\n",
       "28  2021-26   854 0.0756   3564 0.0537   4822 0.0493 95.2179 87.9899    1   7\n",
       "29  2021-28  2552 0.0998   3814 0.0759   6844 0.1077 94.1363 90.5835    1  10"
      ]
     },
     "execution_count": 19,
     "metadata": {},
     "output_type": "execute_result"
    }
   ],
   "source": [
    "traindata = RDL[0:24]\n",
    "testdata = RDL[24:]\n",
    "testdata"
   ]
  },
  {
   "cell_type": "code",
   "execution_count": 20,
   "id": "a7ea3712",
   "metadata": {},
   "outputs": [],
   "source": [
    "regression = ols(formula='Y~X1+X2+X3+X4+X5+X6+X13+X14+X15', data=traindata)\n",
    "lm = regression.fit()"
   ]
  },
  {
   "cell_type": "code",
   "execution_count": 21,
   "id": "f7c8f482",
   "metadata": {},
   "outputs": [],
   "source": [
    "#lm.summary()"
   ]
  },
  {
   "cell_type": "code",
   "execution_count": 22,
   "id": "3063ef89",
   "metadata": {},
   "outputs": [],
   "source": [
    "#lm.params"
   ]
  },
  {
   "cell_type": "code",
   "execution_count": 23,
   "id": "e6f2da80",
   "metadata": {},
   "outputs": [
    {
     "data": {
      "text/plain": [
       "\"print('Y = ', end='')\\nfor index, value in enumerate(lm.params):\\n    if index==0:\\n        print(value, end='')\\n    else:\\n        if value>0:\\n            print('+', value, 'X', index, end='')\\n        else:\\n            print(value, 'X', index, end='')\""
      ]
     },
     "execution_count": 23,
     "metadata": {},
     "output_type": "execute_result"
    }
   ],
   "source": [
    "'''print('Y = ', end='')\n",
    "for index, value in enumerate(lm.params):\n",
    "    if index==0:\n",
    "        print(value, end='')\n",
    "    else:\n",
    "        if value>0:\n",
    "            print('+', value, 'X', index, end='')\n",
    "        else:\n",
    "            print(value, 'X', index, end='')'''"
   ]
  },
  {
   "cell_type": "code",
   "execution_count": 24,
   "id": "332a8ea5",
   "metadata": {},
   "outputs": [],
   "source": [
    "def mape(y_true, y_pred):\n",
    "    return np.mean(np.abs((y_true-y_pred)/y_true))*100"
   ]
  },
  {
   "cell_type": "code",
   "execution_count": 25,
   "id": "657f816a",
   "metadata": {},
   "outputs": [],
   "source": [
    "def mase(y_true, y_pred):\n",
    "    y_num = y_true.size\n",
    "    d = np.abs(np.diff(y_true)).sum()/(y_num-1)\n",
    "    ret = np.abs(y_true - y_pred)\n",
    "    return ret.mean()/d"
   ]
  },
  {
   "cell_type": "code",
   "execution_count": 26,
   "id": "87d22e13",
   "metadata": {},
   "outputs": [
    {
     "data": {
      "text/html": [
       "<div>\n",
       "<style scoped>\n",
       "    .dataframe tbody tr th:only-of-type {\n",
       "        vertical-align: middle;\n",
       "    }\n",
       "\n",
       "    .dataframe tbody tr th {\n",
       "        vertical-align: top;\n",
       "    }\n",
       "\n",
       "    .dataframe thead th {\n",
       "        text-align: right;\n",
       "    }\n",
       "</style>\n",
       "<table border=\"1\" class=\"dataframe\">\n",
       "  <thead>\n",
       "    <tr style=\"text-align: right;\">\n",
       "      <th></th>\n",
       "      <th>training</th>\n",
       "    </tr>\n",
       "  </thead>\n",
       "  <tbody>\n",
       "    <tr>\n",
       "      <th>MAE</th>\n",
       "      <td>0.9583</td>\n",
       "    </tr>\n",
       "    <tr>\n",
       "      <th>MSE</th>\n",
       "      <td>1.6250</td>\n",
       "    </tr>\n",
       "    <tr>\n",
       "      <th>RMSE</th>\n",
       "      <td>1.2748</td>\n",
       "    </tr>\n",
       "    <tr>\n",
       "      <th>MAPE</th>\n",
       "      <td>9.0966%</td>\n",
       "    </tr>\n",
       "    <tr>\n",
       "      <th>MASE</th>\n",
       "      <td>0.2422</td>\n",
       "    </tr>\n",
       "  </tbody>\n",
       "</table>\n",
       "</div>"
      ],
      "text/plain": [
       "     training\n",
       "MAE    0.9583\n",
       "MSE    1.6250\n",
       "RMSE   1.2748\n",
       "MAPE  9.0966%\n",
       "MASE   0.2422"
      ]
     },
     "execution_count": 26,
     "metadata": {},
     "output_type": "execute_result"
    }
   ],
   "source": [
    "def table(lm, data, w):\n",
    "    y_pred = round(lm.predict(data), 0)\n",
    "    y_true = data[\"Y\"]\n",
    "   # print(y_true[190])\n",
    "    #print(np.where(np.isnan(y_pred)))\n",
    "    #print(y_pred, y_true)\n",
    "    MAE = round(metrics.mean_absolute_error(y_true, y_pred), 4)\n",
    "    #print(metrics.mean_absolute_error(y_true, y_pred))\n",
    "    MSE = round(metrics.mean_squared_error(y_true, y_pred), 4)\n",
    "    RMSE = round(np.sqrt(metrics.mean_squared_error(y_true, y_pred)), 4)\n",
    "    try:\n",
    "        MAPE =  str(round(mape(y_true, y_pred), 4))+'%'\n",
    "    except ZeroDivisionError:\n",
    "        MAPE = \"NAN\"\n",
    "    MASE = round(mase(y_true, y_pred), 4)\n",
    "    errortype = [\"MAE\", \"MSE\", \"RMSE\", \"MAPE\", \"MASE\"]\n",
    "    error = [MAE, MSE, RMSE, MAPE, MASE]\n",
    "    #print(error)\n",
    "    if w == \"train\":\n",
    "        error_dict = {\" \":errortype, \"training\":error}\n",
    "    elif w == \"test\":\n",
    "        error_dict = {\" \":errortype, \"testing\":error}\n",
    "    #error_dict = {\" \":errortype, \"誤差分析\":error}\n",
    "    pd.options.display.float_format = '{:.4f}'.format\n",
    "    df = pd.DataFrame(error_dict)\n",
    "    df = df.set_index(\" \").rename_axis(None)\n",
    "    #print(df)\n",
    "    return df\n",
    "\n",
    "df1 = table(lm, traindata, \"train\")\n",
    "df1"
   ]
  },
  {
   "cell_type": "code",
   "execution_count": 27,
   "id": "fa39da1a",
   "metadata": {},
   "outputs": [
    {
     "data": {
      "text/html": [
       "<div>\n",
       "<style scoped>\n",
       "    .dataframe tbody tr th:only-of-type {\n",
       "        vertical-align: middle;\n",
       "    }\n",
       "\n",
       "    .dataframe tbody tr th {\n",
       "        vertical-align: top;\n",
       "    }\n",
       "\n",
       "    .dataframe thead th {\n",
       "        text-align: right;\n",
       "    }\n",
       "</style>\n",
       "<table border=\"1\" class=\"dataframe\">\n",
       "  <thead>\n",
       "    <tr style=\"text-align: right;\">\n",
       "      <th></th>\n",
       "      <th>testing</th>\n",
       "    </tr>\n",
       "  </thead>\n",
       "  <tbody>\n",
       "    <tr>\n",
       "      <th>MAE</th>\n",
       "      <td>1.0000</td>\n",
       "    </tr>\n",
       "    <tr>\n",
       "      <th>MSE</th>\n",
       "      <td>1.6667</td>\n",
       "    </tr>\n",
       "    <tr>\n",
       "      <th>RMSE</th>\n",
       "      <td>1.2910</td>\n",
       "    </tr>\n",
       "    <tr>\n",
       "      <th>MAPE</th>\n",
       "      <td>11.5476%</td>\n",
       "    </tr>\n",
       "    <tr>\n",
       "      <th>MASE</th>\n",
       "      <td>0.1923</td>\n",
       "    </tr>\n",
       "  </tbody>\n",
       "</table>\n",
       "</div>"
      ],
      "text/plain": [
       "       testing\n",
       "MAE     1.0000\n",
       "MSE     1.6667\n",
       "RMSE    1.2910\n",
       "MAPE  11.5476%\n",
       "MASE    0.1923"
      ]
     },
     "execution_count": 27,
     "metadata": {},
     "output_type": "execute_result"
    }
   ],
   "source": [
    "df2 = table(lm, testdata, \"test\")\n",
    "df2"
   ]
  },
  {
   "cell_type": "code",
   "execution_count": null,
   "id": "dbe10359",
   "metadata": {},
   "outputs": [],
   "source": []
  }
 ],
 "metadata": {
  "kernelspec": {
   "display_name": "Python 3",
   "language": "python",
   "name": "python3"
  },
  "language_info": {
   "codemirror_mode": {
    "name": "ipython",
    "version": 3
   },
   "file_extension": ".py",
   "mimetype": "text/x-python",
   "name": "python",
   "nbconvert_exporter": "python",
   "pygments_lexer": "ipython3",
   "version": "3.8.8"
  }
 },
 "nbformat": 4,
 "nbformat_minor": 5
}
